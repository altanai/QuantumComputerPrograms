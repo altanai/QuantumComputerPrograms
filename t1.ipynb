{
 "cells": [
  {
   "cell_type": "code",
   "execution_count": null,
   "metadata": {},
   "outputs": [],
   "source": [
    "# Add a CX (CNOT) gate on control qubit 0 and target qubit 1\n",
    "\n",
    "i1 = QuantumRegister(1, name='input1')\n",
    "i2 = QuantumRegister(1, name='input2')\n",
    "cr = ClassicalRegister(1, name=\"result\")\n",
    "circuit = QuantumCircuit(i1, i2, cr)\n",
    "\n",
    "circuit.x(i1) # <- First invert control state i1 , that is set i1 to 1\n",
    "circuit.cx(i1, i2) # <- controlled x on target i1 when i2 is control and is 1\n",
    "\n",
    "circuit.measure(i2, cr)\n",
    "# circuit.draw()\n",
    "\n",
    "job = execute(circuit, backend=local_simulator)\n",
    "job.result().get_counts()"
   ]
  }
 ],
 "metadata": {
  "kernelspec": {
   "display_name": "Python 3",
   "language": "python",
   "name": "python3"
  },
  "language_info": {
   "codemirror_mode": {
    "name": "ipython",
    "version": 3
   },
   "file_extension": ".py",
   "mimetype": "text/x-python",
   "name": "python",
   "nbconvert_exporter": "python",
   "pygments_lexer": "ipython3",
   "version": "3.7.4"
  }
 },
 "nbformat": 4,
 "nbformat_minor": 2
}
